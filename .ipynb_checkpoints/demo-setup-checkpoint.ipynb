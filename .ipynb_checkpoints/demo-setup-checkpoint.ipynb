{
 "cells": [
  {
   "cell_type": "markdown",
   "id": "6956367d-9a1b-4f80-b525-d42d7d8e49db",
   "metadata": {},
   "source": [
    "# Object Detection with RHOAI\n",
    "\n",
    "## Demo Setup\n",
    "\n",
    "Prerequisite: You have deployed the [RHOAI Demo Pack](https://github.com/mamurak/os-mlops/tree/main#RHOAI-demo-pack) and cloned this repository within a RHOAI workbench using the `object detection` workbench image in the `object detection` Project. GPU enablement is optional.\n",
    "\n",
    "### GPU-accelerated inferencing\n",
    "\n",
    "If you have enabled GPUs in your cluster, configure GPU usage in your Triton model server instance:\n",
    "- In the RHOAI dashboard, navigate to project `object detection` and enter the context menu of the `Triton` model server instance (three dots on the right).\n",
    "- Select _Edit model server_.\n",
    "- Increase the count of `Model server GPUs`."
   ]
  },
  {
   "cell_type": "markdown",
   "id": "56d4157a-c659-4a2d-9e3f-43d7f059b4ed",
   "metadata": {},
   "source": [
    "You can now proceed with the demo and follow the end-to-end demo flow.\n",
    "\n",
    "## Model training\n",
    "\n",
    "Show how to create and run training pipelines with Elyra and Data Science Pipelines:\n",
    "1. In the `model-training` folder, open the appropriate Elyra pipeline, i.e. `model-training-gpu.pipeline` if you have enabled GPUs in your cluster, else `model-training-cpu.pipeline`.\n",
    "2. Submit the pipeline to the Data Science Pipelines backend (via `Run Pipeline`).\n",
    "3. Track the pipeline progress through the list of triggered runs in the RHOAI dashboard.\n",
    "4. Once the pipeline run has completed, you can find the trained model in the `object-detection` bucket.\n",
    "\n",
    "## Online scoring\n",
    "\n",
    "Deploy the model through RHOAI Model Serving:\n",
    "1. In the RHOAI dashboard in project `object-detection`, select `Deploy model` in the appropriate model server, i.e. `Triton` if you enabled GPUs in your cluster, else `OVMS`.\n",
    "2. Enter `demo-model` under _Model Name_, `ONNX` as _Model framework_, existing data connection `object-detection`, and `model-latest.onnx` as _Folder path_.\n",
    "3. Select _Deploy_.\n",
    "4. Copy the _Inference endpoint_ URL.\n",
    "5. Open the `online-scoring` notebook.\n",
    "6. Paste the inference endpoint URL into the placeholder of the `prediction_url` variable.\n",
    "7. Run the notebook.\n",
    "\n",
    "## Offline scoring\n",
    "\n",
    "Show how to deploy scoring pipelines through Elyra and Data Science Pipelines:\n",
    "1. Open the `offline-scoring` notebook.\n",
    "2. Submit the pipeline to the Data Science Pipelines backend (via `Run Pipeline`).\n",
    "3. Track the pipeline progress through the list of triggered runs in the RHOAI dashboard.\n",
    "4. Once the pipeline run has completed, you can find the classification results in the `object-detection` bucket as `prediction-[timestamp].csv`."
   ]
  },
  {
   "cell_type": "code",
   "execution_count": null,
   "id": "cf952092-ea7b-4a07-a04b-e59607be4231",
   "metadata": {},
   "outputs": [],
   "source": []
  }
 ],
 "metadata": {
  "kernelspec": {
   "display_name": "Python 3.9.16",
   "language": "python",
   "name": "python3"
  },
  "language_info": {
   "codemirror_mode": {
    "name": "ipython",
    "version": 3
   },
   "file_extension": ".py",
   "mimetype": "text/x-python",
   "name": "python",
   "nbconvert_exporter": "python",
   "pygments_lexer": "ipython3",
   "version": "3.9.16"
  }
 },
 "nbformat": 4,
 "nbformat_minor": 5
}
