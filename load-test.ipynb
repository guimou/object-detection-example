{
 "cells": [
  {
   "cell_type": "code",
   "execution_count": null,
   "id": "02f55a5b-db2d-4e23-94be-bc795899300a",
   "metadata": {},
   "outputs": [],
   "source": [
    "from requests import post\n",
    "\n",
    "from preprocessing import preprocess_image_file"
   ]
  },
  {
   "cell_type": "code",
   "execution_count": null,
   "id": "51e38b91-20c5-43a7-981b-8de41c2f45bd",
   "metadata": {},
   "outputs": [],
   "source": [
    "inference_endpoint_urls = [\n",
    "    'REPLACE_ME',\n",
    "    # additional endpoints\n",
    "]\n",
    "\n",
    "authentication_token = 'REPLACE_ME'"
   ]
  },
  {
   "cell_type": "code",
   "execution_count": null,
   "id": "2ee0865c-34f2-4a4a-be90-6b00969690af",
   "metadata": {},
   "outputs": [],
   "source": [
    "def serialize(image):\n",
    "    model_input = {\n",
    "        'name': 'images',\n",
    "        'shape': [1, 3, 640, 640],\n",
    "        'datatype': 'FP32',\n",
    "        'data': image.flatten().tolist(),\n",
    "    }\n",
    "    correct_payload = {\n",
    "        'inputs': [model_input]\n",
    "    }\n",
    "    broken_payload = {\n",
    "        'wrong_inputs': [model_input]\n",
    "    }\n",
    "    return correct_payload, broken_payload\n",
    "\n",
    "\n",
    "def do_request(payload, prediction_url, token=''):\n",
    "    headers = {'Authorization': f'Bearer {token}'} if token else {}\n",
    "    raw_response = post(prediction_url, json=payload, headers=headers)\n",
    "    print(f'returned status code: {raw_response.status_code}')\n",
    "\n",
    "\n",
    "def run_load_test(inference_endpoint_urls, authentication_token):\n",
    "    image_path = 'sample-images/street.jpg'\n",
    "    transformed_image, _, _ = preprocess_image_file(image_path)\n",
    "    correct_payload, broken_payload = serialize(transformed_image)\n",
    "\n",
    "    for iteration in range(5):\n",
    "        for i_endpoint, prediction_url in enumerate(inference_endpoint_urls):\n",
    "            print(f'iteration {iteration}: sending request '\n",
    "                  f'to endpoint {i_endpoint} with correct payload')\n",
    "            do_request(\n",
    "                correct_payload, prediction_url, token=authentication_token\n",
    "            )\n",
    "\n",
    "            print(f'iteration {iteration}: sending request '\n",
    "                  f'to endpoint {i_endpoint} with broken payload')\n",
    "            do_request(\n",
    "                broken_payload, prediction_url, token=authentication_token\n",
    "            )"
   ]
  },
  {
   "cell_type": "code",
   "execution_count": null,
   "id": "5a5adc8c-167f-40de-bac2-42c8aef9872a",
   "metadata": {},
   "outputs": [],
   "source": [
    "run_load_test(inference_endpoint_urls, authentication_token)"
   ]
  },
  {
   "cell_type": "code",
   "execution_count": null,
   "id": "f3d59eed-67f1-4f3c-98c3-65f49d782270",
   "metadata": {},
   "outputs": [],
   "source": []
  }
 ],
 "metadata": {
  "kernelspec": {
   "display_name": "Python 3.9.16",
   "language": "python",
   "name": "python3"
  },
  "language_info": {
   "codemirror_mode": {
    "name": "ipython",
    "version": 3
   },
   "file_extension": ".py",
   "mimetype": "text/x-python",
   "name": "python",
   "nbconvert_exporter": "python",
   "pygments_lexer": "ipython3",
   "version": "3.9.16"
  }
 },
 "nbformat": 4,
 "nbformat_minor": 5
}
